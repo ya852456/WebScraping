{
 "cells": [
  {
   "cell_type": "code",
   "execution_count": 137,
   "id": "cfd30f23",
   "metadata": {},
   "outputs": [],
   "source": [
    "import requests\n",
    "from bs4 import BeautifulSoup \n",
    "import time\n",
    "import datetime"
   ]
  },
  {
   "cell_type": "code",
   "execution_count": 81,
   "id": "6f62380f",
   "metadata": {},
   "outputs": [],
   "source": [
    "url='https://www.amazon.com/Stanley-Charcoal-Classic-Straw-Tumbler/dp/B08VPR1R71?ref_=ast_sto_dp&th=1'"
   ]
  },
  {
   "cell_type": "code",
   "execution_count": 108,
   "id": "e4183495",
   "metadata": {},
   "outputs": [],
   "source": [
    "headers={\"User-Agent\": \"Mozilla/5.0 (Macintosh; Intel Mac OS X 10_15_7) AppleWebKit/537.36 (KHTML, like Gecko) Chrome/115.0.0.0 Safari/537.36\"}"
   ]
  },
  {
   "cell_type": "code",
   "execution_count": 109,
   "id": "8581b59a",
   "metadata": {},
   "outputs": [],
   "source": [
    "page=requests.get(url,headers=headers)"
   ]
  },
  {
   "cell_type": "code",
   "execution_count": 113,
   "id": "a577b65a",
   "metadata": {},
   "outputs": [],
   "source": [
    "soup=BeautifulSoup(page.content,'html.parser')"
   ]
  },
  {
   "cell_type": "code",
   "execution_count": null,
   "id": "79d82bb4",
   "metadata": {},
   "outputs": [],
   "source": [
    "soup"
   ]
  },
  {
   "cell_type": "code",
   "execution_count": 119,
   "id": "c5e880de",
   "metadata": {},
   "outputs": [],
   "source": [
    "name=soup.find(id='productTitle').text.strip()"
   ]
  },
  {
   "cell_type": "code",
   "execution_count": 128,
   "id": "bd332261",
   "metadata": {},
   "outputs": [],
   "source": [
    "price=soup.find(class_='a-price-whole').text.strip()[0:2]"
   ]
  },
  {
   "cell_type": "code",
   "execution_count": 139,
   "id": "892ed256",
   "metadata": {},
   "outputs": [],
   "source": [
    "date=datetime.date.today()"
   ]
  },
  {
   "cell_type": "code",
   "execution_count": 140,
   "id": "6751fd87",
   "metadata": {},
   "outputs": [
    {
     "data": {
      "text/plain": [
       "datetime.date(2023, 8, 15)"
      ]
     },
     "execution_count": 140,
     "metadata": {},
     "output_type": "execute_result"
    }
   ],
   "source": [
    "date"
   ]
  },
  {
   "cell_type": "code",
   "execution_count": 142,
   "id": "34893a98",
   "metadata": {},
   "outputs": [],
   "source": [
    "headers=['Name','Price','Date']\n",
    "data=[name,price,date]"
   ]
  },
  {
   "cell_type": "code",
   "execution_count": 141,
   "id": "03310208",
   "metadata": {},
   "outputs": [],
   "source": [
    "import csv"
   ]
  },
  {
   "cell_type": "code",
   "execution_count": 143,
   "id": "0172dadf",
   "metadata": {},
   "outputs": [],
   "source": [
    "with open('AmazonWebScrapperDataSet.csv','w',newline='',encoding='UTF8') as file:\n",
    "    writer=csv.writer(file)\n",
    "    writer.writerow(headers)\n",
    "    writer.writerow(data)"
   ]
  },
  {
   "cell_type": "code",
   "execution_count": 144,
   "id": "1a87e882",
   "metadata": {},
   "outputs": [],
   "source": [
    "import pandas as pd"
   ]
  },
  {
   "cell_type": "code",
   "execution_count": 146,
   "id": "b679ee13",
   "metadata": {},
   "outputs": [
    {
     "data": {
      "text/html": [
       "<div>\n",
       "<style scoped>\n",
       "    .dataframe tbody tr th:only-of-type {\n",
       "        vertical-align: middle;\n",
       "    }\n",
       "\n",
       "    .dataframe tbody tr th {\n",
       "        vertical-align: top;\n",
       "    }\n",
       "\n",
       "    .dataframe thead th {\n",
       "        text-align: right;\n",
       "    }\n",
       "</style>\n",
       "<table border=\"1\" class=\"dataframe\">\n",
       "  <thead>\n",
       "    <tr style=\"text-align: right;\">\n",
       "      <th></th>\n",
       "      <th>Name</th>\n",
       "      <th>Price</th>\n",
       "      <th>Date</th>\n",
       "    </tr>\n",
       "  </thead>\n",
       "  <tbody>\n",
       "    <tr>\n",
       "      <th>0</th>\n",
       "      <td>Stanley IceFlow Stainless Steel Tumbler with S...</td>\n",
       "      <td>30</td>\n",
       "      <td>2023-08-15</td>\n",
       "    </tr>\n",
       "  </tbody>\n",
       "</table>\n",
       "</div>"
      ],
      "text/plain": [
       "                                                Name  Price        Date\n",
       "0  Stanley IceFlow Stainless Steel Tumbler with S...     30  2023-08-15"
      ]
     },
     "execution_count": 146,
     "metadata": {},
     "output_type": "execute_result"
    }
   ],
   "source": [
    "df=pd.read_csv('/Users/ya852456/AmazonWebScrapperDataSet.csv')\n",
    "df"
   ]
  },
  {
   "cell_type": "code",
   "execution_count": null,
   "id": "5b718882",
   "metadata": {},
   "outputs": [],
   "source": [
    "with open('AmazonWebScrapperDataSet.csv','a+',newline='',encoding='UTF8') as file:\n",
    "    writer=csv.writer(file)\n",
    "    writer.writerow(data)"
   ]
  },
  {
   "cell_type": "code",
   "execution_count": 147,
   "id": "28d74ad0",
   "metadata": {},
   "outputs": [],
   "source": [
    "def check_price():\n",
    "    url='https://www.amazon.com/Stanley-Charcoal-Classic-Straw-Tumbler/dp/B08VPR1R71?ref_=ast_sto_dp&th=1'\n",
    "    \n",
    "    headers={\"User-Agent\": \"Mozilla/5.0 (Macintosh; Intel Mac OS X 10_15_7) AppleWebKit/537.36 (KHTML, like Gecko) Chrome/115.0.0.0 Safari/537.36\"}\n",
    "    \n",
    "    page=requests.get(url,headers=headers)\n",
    "    \n",
    "    soup=BeautifulSoup(page.content,'html.parser')\n",
    "    \n",
    "    name=soup.find(id='productTitle').text.strip()\n",
    "    price=soup.find(class_='a-price-whole').text.strip()[0:2]\n",
    "    date=datetime.date.today()\n",
    "    \n",
    "    headers=['Name','Price','Date']\n",
    "    data=[name,price,date]\n",
    "    \n",
    "    import csv\n",
    "    \n",
    "    with open('AmazonWebScrapperDataSet.csv','a+',newline='',encoding='UTF8') as file:\n",
    "        writer=csv.writer(file)\n",
    "        writer.writerow(data)\n",
    "        \n",
    "    if int(price)<28:\n",
    "        send_mail()"
   ]
  },
  {
   "cell_type": "code",
   "execution_count": null,
   "id": "59166eca",
   "metadata": {},
   "outputs": [],
   "source": [
    "while(true):\n",
    "    check_price()\n",
    "    time.sleep(3600)\n",
    "        "
   ]
  },
  {
   "cell_type": "code",
   "execution_count": 155,
   "id": "ba0ddb6c",
   "metadata": {},
   "outputs": [],
   "source": [
    "import smtplib\n",
    "\n",
    "def send_mail():\n",
    "    server = smtplib.SMTP_SSL('smtp.gmail.com',465)\n",
    "    server.ehlo()\n",
    "    #server.starttls()\n",
    "    server.ehlo()\n",
    "    server.login('ya852456@gmail.com','xxxxxxxxxxxxxx')\n",
    "    \n",
    "    subject = \"The item is below $28 now!\"\n",
    "    body = \"click the link here: https://www.amazon.com/Stanley-Charcoal-Classic-Straw-Tumbler/dp/B08VPR1R71?ref_=ast_sto_dp&th=1\"\n",
    "   \n",
    "    msg = f\"Subject: {subject}\\n\\n{body}\"\n",
    "    \n",
    "    server.sendmail(\n",
    "        'ya852456@gmail.com',\n",
    "        msg\n",
    "     )"
   ]
  }
 ],
 "metadata": {
  "kernelspec": {
   "display_name": "Python 3 (ipykernel)",
   "language": "python",
   "name": "python3"
  },
  "language_info": {
   "codemirror_mode": {
    "name": "ipython",
    "version": 3
   },
   "file_extension": ".py",
   "mimetype": "text/x-python",
   "name": "python",
   "nbconvert_exporter": "python",
   "pygments_lexer": "ipython3",
   "version": "3.11.3"
  }
 },
 "nbformat": 4,
 "nbformat_minor": 5
}
